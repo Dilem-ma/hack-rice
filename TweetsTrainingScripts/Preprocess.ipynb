{
 "cells": [
  {
   "cell_type": "code",
   "execution_count": 12,
   "metadata": {
    "scrolled": true
   },
   "outputs": [
    {
     "name": "stdout",
     "output_type": "stream",
     "text": [
      "DONE\n"
     ]
    }
   ],
   "source": [
    "import json\n",
    "\n",
    "file_in = open('tweets', 'r', encoding=\"utf-8\")\n",
    "file_out = open('raw_text_full','w',encoding=\"utf-8\")\n",
    "\n",
    "for line in file_in:\n",
    "    if(len(line)>0):\n",
    "        try:\n",
    "            jstr = json.loads(line)\n",
    "            txt = jstr['text']\n",
    "            if(txt is None or len(txt)==0):\n",
    "                continue\n",
    "            else:\n",
    "                file_out.write(jstr['text']+'\\n')\n",
    "        except:\n",
    "            continue\n",
    "        \n",
    "file_in.close()\n",
    "file_out.close()\n",
    "print(\"DONE\")"
   ]
  },
  {
   "cell_type": "code",
   "execution_count": null,
   "metadata": {
    "collapsed": true
   },
   "outputs": [],
   "source": []
  },
  {
   "cell_type": "code",
   "execution_count": null,
   "metadata": {
    "collapsed": true
   },
   "outputs": [],
   "source": []
  }
 ],
 "metadata": {
  "kernelspec": {
   "display_name": "Python 3",
   "language": "python",
   "name": "python3"
  },
  "language_info": {
   "codemirror_mode": {
    "name": "ipython",
    "version": 3
   },
   "file_extension": ".py",
   "mimetype": "text/x-python",
   "name": "python",
   "nbconvert_exporter": "python",
   "pygments_lexer": "ipython3",
   "version": "3.6.1"
  }
 },
 "nbformat": 4,
 "nbformat_minor": 2
}
