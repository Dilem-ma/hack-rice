{
 "cells": [
  {
   "cell_type": "code",
   "execution_count": 24,
   "metadata": {},
   "outputs": [
    {
     "name": "stdout",
     "output_type": "stream",
     "text": [
      "Tweet: URGENT sb could help?\n",
      "Classified as: HELP!\n",
      "Tweet: flooding warning\n",
      "Classified as: FINE\n",
      "Tweet: apple\n",
      "Classified as: FINE\n",
      "Tweet: help!\n",
      "Classified as: HELP!\n",
      "Tweet: praise the sun\n",
      "Classified as: FINE\n",
      "Tweet: i am fine\n",
      "Classified as: FINE\n",
      "Tweet: emergency\n",
      "Classified as: HELP!\n"
     ]
    }
   ],
   "source": [
    "import os\n",
    "from pattern.vector import Document, Model, KNN\n",
    "\n",
    "msgs = []\n",
    "msgs.append('URGENT sb could help?')\n",
    "msgs.append('flooding warning')\n",
    "msgs.append('apple')\n",
    "msgs.append('help!')\n",
    "msgs.append('praise the sun')\n",
    "msgs.append('i am fine')\n",
    "msgs.append('emergency')\n",
    "clf = classifier.load('saved_classifier_full')\n",
    "# These are the adjectives the classifier has learned:\n",
    "#print(sorted(clf.features))\n",
    "for msg in msgs:\n",
    "    print('Tweet: '+msg)\n",
    "    print('Classified as: '+clf.classify(msg))"
   ]
  },
  {
   "cell_type": "code",
   "execution_count": null,
   "metadata": {
    "collapsed": true
   },
   "outputs": [],
   "source": []
  }
 ],
 "metadata": {
  "kernelspec": {
   "display_name": "Python 3",
   "language": "python",
   "name": "python3"
  },
  "language_info": {
   "codemirror_mode": {
    "name": "ipython",
    "version": 3
   },
   "file_extension": ".py",
   "mimetype": "text/x-python",
   "name": "python",
   "nbconvert_exporter": "python",
   "pygments_lexer": "ipython3",
   "version": "3.6.1"
  }
 },
 "nbformat": 4,
 "nbformat_minor": 2
}
